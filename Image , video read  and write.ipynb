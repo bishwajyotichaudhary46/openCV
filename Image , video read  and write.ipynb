{
 "cells": [
  {
   "cell_type": "code",
   "execution_count": 1,
   "id": "96069983",
   "metadata": {},
   "outputs": [],
   "source": [
    "import cv2"
   ]
  },
  {
   "cell_type": "code",
   "execution_count": null,
   "id": "037b2fba",
   "metadata": {},
   "outputs": [],
   "source": [
    "image = cv2.imread(\"hello.jpg\")\n",
    "cv2.imshow(\"text image\", image)\n",
    "cv2.waitKey(5000)"
   ]
  },
  {
   "cell_type": "code",
   "execution_count": null,
   "id": "c127ca76",
   "metadata": {},
   "outputs": [],
   "source": [
    "#instance of video capture\n",
    "cap = cv2.VideoCapture(0)# defaul web cam\n",
    "opened = cap.isOpened()\n",
    "\n",
    "#fourcc\n",
    "fourcc = cv2.VideoWriter_fourcc(*\"MJPG\")\n",
    "\n",
    "\n",
    "\n",
    "height = cap.get(cv2.CAP_PROP_FRAME_HEIGHT)\n",
    "width = cap.get(cv2.CAP_PROP_FRAME_WIDTH)\n",
    "\n",
    "fps = cap.get(cv2.CAP_PROP_FPS)\n",
    "\n",
    "# video writer\n",
    "out = cv2.VideoWriter('jj.avi', fourcc,fps,(int(width),int(height)))\n",
    "\n",
    "print(height, width)\n",
    "print(f\"frames are {fps}\")\n",
    "\n",
    "if(opened):\n",
    "    while(cap.isOpened()):\n",
    "        ret, frame = cap.read()\n",
    "        if ret == True:\n",
    "            cv2.imshow(\"video\", frame)\n",
    "            if cv2.waitKey(2) == \"q\":\n",
    "                break\n",
    "                \n",
    "out.release()\n",
    "cap.release()\n",
    "cv2.destroyAllWindow()"
   ]
  },
  {
   "cell_type": "code",
   "execution_count": null,
   "id": "75ddfb25",
   "metadata": {},
   "outputs": [],
   "source": []
  }
 ],
 "metadata": {
  "kernelspec": {
   "display_name": "Python 3 (ipykernel)",
   "language": "python",
   "name": "python3"
  },
  "language_info": {
   "codemirror_mode": {
    "name": "ipython",
    "version": 3
   },
   "file_extension": ".py",
   "mimetype": "text/x-python",
   "name": "python",
   "nbconvert_exporter": "python",
   "pygments_lexer": "ipython3",
   "version": "3.9.13"
  }
 },
 "nbformat": 4,
 "nbformat_minor": 5
}
