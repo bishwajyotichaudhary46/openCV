{
 "cells": [
  {
   "cell_type": "code",
   "execution_count": 3,
   "id": "9fddcf78",
   "metadata": {},
   "outputs": [],
   "source": [
    "import cv2\n",
    "import numpy as np"
   ]
  },
  {
   "cell_type": "code",
   "execution_count": 4,
   "id": "b8641c1e",
   "metadata": {},
   "outputs": [],
   "source": [
    "canvas = np.zeros((500,500,3))"
   ]
  },
  {
   "cell_type": "code",
   "execution_count": 9,
   "id": "0c0e3f47",
   "metadata": {},
   "outputs": [],
   "source": [
    "#  draw line -->\n",
    "cv2.line(canvas, (0,0), (100,100), (0,255,0), 2, cv2.LINE_4)\n",
    "cv2.line(canvas, (0,20), (120,120), (0,255,0), 2, cv2.LINE_AA)\n",
    "# line 4 and 8 - bresenham algo\n",
    "# line AA - Gausian filterin\n",
    "\n",
    "cv2.imshow(\"draw\", canvas)\n",
    "cv2.waitKey(100)\n",
    "cv2.destroyAllWindows()\n"
   ]
  },
  {
   "cell_type": "code",
   "execution_count": 10,
   "id": "412485ed",
   "metadata": {},
   "outputs": [],
   "source": [
    "cv2.rectangle(canvas,(200,200), (250,270),(0,0,255),-1)\n",
    "cv2.circle(canvas, (250,250),10,(255,0, 0 ), 3)\n",
    "cv2.arrowedLine(canvas,(400,400), (400,500), (255,255,255), tipLength = 0.3)\n",
    "cv2.imshow(\"draw\", canvas)\n",
    "cv2.waitKey(0)\n",
    "cv2.destroyAllWindows()"
   ]
  },
  {
   "cell_type": "code",
   "execution_count": 12,
   "id": "a6f234ff",
   "metadata": {},
   "outputs": [],
   "source": [
    "# poly lines\n",
    "pts = np.array([[250,5],[220,80], [280,80],[100,10]], np.int32)\n",
    "pts = pts.reshape((-1,1,2))\n",
    "cv2.polylines(canvas, [pts], True,(0,255,0),3)\n",
    "cv2.imshow(\"draw\", canvas)\n",
    "cv2.waitKey(0)\n",
    "cv2.destroyAllWindows()"
   ]
  },
  {
   "cell_type": "code",
   "execution_count": 16,
   "id": "7d664af6",
   "metadata": {},
   "outputs": [],
   "source": [
    "canvas2 = np.zeros((800,500))\n",
    "\n",
    "font = [cv2.FONT_HERSHEY_COMPLEX,\n",
    "        cv2.FONT_HERSHEY_DUPLEX,\n",
    "        cv2.FONT_HERSHEY_PLAIN,\n",
    "        cv2.FONT_HERSHEY_TRIPLEX, \n",
    "        cv2.FONT_HERSHEY_SCRIPT_COMPLEX]\n",
    "\n",
    "\n",
    "position = (10,30)\n",
    "for i in range(0,5):\n",
    "    cv2.putText(canvas2, \"This opence !\".upper(), position, font[i], 1.1,(255,255,255))\n",
    "    position = (position[0] , position[1] + 40)\n",
    "    cv2.putText(canvas2, \"This opence !\".lower(), position, font[i], 1.1,(255,255,255))\n",
    "    position = (position[0] , position[1] + 40)\n",
    "cv2.imshow(\"draw\", canvas2)\n",
    "cv2.waitKey(0)\n",
    "cv2.destroyAllWindows()"
   ]
  },
  {
   "cell_type": "code",
   "execution_count": null,
   "id": "b3fc644f",
   "metadata": {},
   "outputs": [],
   "source": []
  }
 ],
 "metadata": {
  "kernelspec": {
   "display_name": "Python 3 (ipykernel)",
   "language": "python",
   "name": "python3"
  },
  "language_info": {
   "codemirror_mode": {
    "name": "ipython",
    "version": 3
   },
   "file_extension": ".py",
   "mimetype": "text/x-python",
   "name": "python",
   "nbconvert_exporter": "python",
   "pygments_lexer": "ipython3",
   "version": "3.9.13"
  }
 },
 "nbformat": 4,
 "nbformat_minor": 5
}
