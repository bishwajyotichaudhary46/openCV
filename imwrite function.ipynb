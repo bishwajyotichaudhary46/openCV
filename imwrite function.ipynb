{
 "cells": [
  {
   "cell_type": "code",
   "execution_count": 1,
   "id": "b49896c1",
   "metadata": {},
   "outputs": [],
   "source": [
    "import cv2\n",
    "import numpy as np\n",
    "import os\n",
    "import time"
   ]
  },
  {
   "cell_type": "code",
   "execution_count": 7,
   "id": "f4e0d614",
   "metadata": {},
   "outputs": [],
   "source": [
    "# save img from array \n",
    "rand_array = np.random.randint(255, size=(300,600, 3))\n",
    "cv2.imwrite(\"rand_img.jpg\", rand_array)# imwrite(filename,img[,params])\n",
    "\n",
    "rand_img = cv2.imread(\"rand_img.jpg\")\n",
    "cv2.imshow(\"random-img\", rand_img)\n",
    "cv2.waitKey(0)\n",
    "cv2.destroyAllWindows()"
   ]
  },
  {
   "cell_type": "code",
   "execution_count": 8,
   "id": "39a24e5b",
   "metadata": {},
   "outputs": [],
   "source": [
    "# save image in different format\n",
    "img_path = \"hello.jpg\"\n",
    "img = cv2.imread(img_path)\n",
    "cv2.imwrite(\"hello_new.png\", img)\n",
    "cv2.imshow(\"image\", img)\n",
    "cv2.waitKey(0)\n",
    "cv2.destroyAllWindows()"
   ]
  },
  {
   "cell_type": "code",
   "execution_count": 3,
   "id": "57031d02",
   "metadata": {},
   "outputs": [
    {
     "ename": "FileExistsError",
     "evalue": "[WinError 183] Cannot create a file when that file already exists: 'video_to_image'",
     "output_type": "error",
     "traceback": [
      "\u001b[1;31m---------------------------------------------------------------------------\u001b[0m",
      "\u001b[1;31mFileExistsError\u001b[0m                           Traceback (most recent call last)",
      "\u001b[1;32m~\\AppData\\Local\\Temp\\ipykernel_2688\\305758457.py\u001b[0m in \u001b[0;36m<module>\u001b[1;34m\u001b[0m\n\u001b[0;32m      1\u001b[0m \u001b[0mvideo_path\u001b[0m\u001b[1;33m=\u001b[0m \u001b[1;34mr\"D:\\Movies\\blackpanther.mkv\"\u001b[0m\u001b[1;33m\u001b[0m\u001b[1;33m\u001b[0m\u001b[0m\n\u001b[0;32m      2\u001b[0m \u001b[1;33m\u001b[0m\u001b[0m\n\u001b[1;32m----> 3\u001b[1;33m \u001b[0mos\u001b[0m\u001b[1;33m.\u001b[0m\u001b[0mmkdir\u001b[0m\u001b[1;33m(\u001b[0m\u001b[1;34m\"video_to_image\"\u001b[0m\u001b[1;33m)\u001b[0m\u001b[1;33m\u001b[0m\u001b[1;33m\u001b[0m\u001b[0m\n\u001b[0m\u001b[0;32m      4\u001b[0m \u001b[0mcap\u001b[0m \u001b[1;33m=\u001b[0m \u001b[0mcv2\u001b[0m\u001b[1;33m.\u001b[0m\u001b[0mVideoCapture\u001b[0m\u001b[1;33m(\u001b[0m\u001b[0mvideo_path\u001b[0m\u001b[1;33m)\u001b[0m\u001b[1;33m\u001b[0m\u001b[1;33m\u001b[0m\u001b[0m\n\u001b[0;32m      5\u001b[0m \u001b[1;33m\u001b[0m\u001b[0m\n",
      "\u001b[1;31mFileExistsError\u001b[0m: [WinError 183] Cannot create a file when that file already exists: 'video_to_image'"
     ]
    }
   ],
   "source": [
    "video_path= r\"D:\\Movies\\blackpanther.mkv\"\n",
    "\n",
    "os.mkdir(\"video_to_image\")\n",
    "cap = cv2.VideoCapture(video_path)\n",
    "\n",
    "\n",
    "img_count = 1\n",
    "\n",
    "while cap.isOpened():\n",
    "    ret, frame = cap.read()\n",
    "    \n",
    "    if not ret:\n",
    "        print(\"Unable  to Read frame\")\n",
    "        break\n",
    "    \n",
    "    is_img_write = cv2.imwrite(f\"video_to_image\\image{img_count}.jpg\", frame)\n",
    "    time.sleep(30)\n",
    "    \n",
    "    if is_img_write:\n",
    "        print(f\"image saved image{img_count}.jpg\")\n",
    "    cv2.imshow(\"video\", frame)\n",
    "    \n",
    "    if cv2.waitKey(25) & 0xff == ord('q'):\n",
    "        break\n",
    "    \n",
    "    img_count += 1\n",
    "    \n",
    "cap.release()\n",
    "cv2.destroyAllWindows()\n",
    "        \n",
    "        "
   ]
  },
  {
   "cell_type": "code",
   "execution_count": 2,
   "id": "8b58f0a8",
   "metadata": {},
   "outputs": [
    {
     "name": "stdout",
     "output_type": "stream",
     "text": [
      "image saved image1.jpg\n",
      "image saved image2.jpg\n",
      "image saved image3.jpg\n",
      "image saved image4.jpg\n",
      "image saved image5.jpg\n"
     ]
    }
   ],
   "source": [
    "\n",
    "\n",
    "os.mkdir(\"CAPTURE New IMAGE\")\n",
    "cap = cv2.VideoCapture(0)\n",
    "\n",
    "\n",
    "img_count = 1\n",
    "\n",
    "while cap.isOpened():\n",
    "    ret, frame = cap.read()\n",
    "    \n",
    "    if not ret:\n",
    "        print(\"Unable  to Read frame\")\n",
    "        break\n",
    "        \n",
    "    cv2.imshow(\"video\", frame)\n",
    "    \n",
    "    \n",
    "    is_img_write = cv2.imwrite(f\"CAPTURE New IMAGE\\image{img_count}.jpg\", frame)\n",
    "    time.sleep(5)\n",
    "    \n",
    "    if is_img_write:\n",
    "        print(f\"image saved image{img_count}.jpg\")\n",
    "    cv2.imshow(\"video\", frame)\n",
    "    \n",
    "    if cv2.waitKey(1) & 0xff == ord('q'):\n",
    "        break\n",
    "    \n",
    "    img_count += 1\n",
    "    \n",
    "cap.release()\n",
    "cv2.destroyAllWindows()\n",
    "        \n",
    "        "
   ]
  },
  {
   "cell_type": "code",
   "execution_count": null,
   "id": "346bcc29",
   "metadata": {},
   "outputs": [],
   "source": []
  }
 ],
 "metadata": {
  "kernelspec": {
   "display_name": "Python 3 (ipykernel)",
   "language": "python",
   "name": "python3"
  },
  "language_info": {
   "codemirror_mode": {
    "name": "ipython",
    "version": 3
   },
   "file_extension": ".py",
   "mimetype": "text/x-python",
   "name": "python",
   "nbconvert_exporter": "python",
   "pygments_lexer": "ipython3",
   "version": "3.9.13"
  }
 },
 "nbformat": 4,
 "nbformat_minor": 5
}
