{
 "cells": [
  {
   "cell_type": "code",
   "execution_count": 1,
   "id": "99c27df9",
   "metadata": {},
   "outputs": [],
   "source": [
    "import cv2\n",
    "import numpy as np"
   ]
  },
  {
   "cell_type": "code",
   "execution_count": 2,
   "id": "b21a7c43",
   "metadata": {},
   "outputs": [
    {
     "data": {
      "text/plain": [
       "-1"
      ]
     },
     "execution_count": 2,
     "metadata": {},
     "output_type": "execute_result"
    }
   ],
   "source": [
    "# loading th e image from pc\n",
    "\n",
    "image = cv2.imread('hello.jpg')\n",
    "\n",
    "matrix = np.float32([[1,0,100],[0,1,100]])\n",
    "\n",
    "#Applying the translation to the image\n",
    "translated = cv2.warpAffine(image, matrix, (image.shape[1]+100, image.shape[0]+100))\n",
    "\n",
    "#showing the  image \n",
    "cv2.imshow(\"translation\", translated)\n",
    "cv2.waitKey(0)"
   ]
  },
  {
   "cell_type": "code",
   "execution_count": null,
   "id": "88669b42",
   "metadata": {},
   "outputs": [],
   "source": []
  }
 ],
 "metadata": {
  "kernelspec": {
   "display_name": "Python 3 (ipykernel)",
   "language": "python",
   "name": "python3"
  },
  "language_info": {
   "codemirror_mode": {
    "name": "ipython",
    "version": 3
   },
   "file_extension": ".py",
   "mimetype": "text/x-python",
   "name": "python",
   "nbconvert_exporter": "python",
   "pygments_lexer": "ipython3",
   "version": "3.9.13"
  }
 },
 "nbformat": 4,
 "nbformat_minor": 5
}
