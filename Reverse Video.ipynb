{
 "cells": [
  {
   "cell_type": "code",
   "execution_count": 1,
   "id": "3fc07047",
   "metadata": {},
   "outputs": [],
   "source": [
    "import cv2"
   ]
  },
  {
   "cell_type": "code",
   "execution_count": 7,
   "id": "a0fcb238",
   "metadata": {},
   "outputs": [
    {
     "name": "stdout",
     "output_type": "stream",
     "text": [
      "No. of Frames: 799.0\n",
      "FPS IS :30.018885473213853\n",
      "700.0\n",
      "600.0\n",
      "500.0\n",
      "400.0\n",
      "300.0\n",
      "200.0\n",
      "100.0\n",
      "0.0\n"
     ]
    }
   ],
   "source": [
    "cap = cv2.VideoCapture(\"video.mp4\")\n",
    "frames = cap.get(cv2.CAP_PROP_FRAME_COUNT)\n",
    "\n",
    "fps  = cap.get(cv2.CAP_PROP_FPS)\n",
    "\n",
    "height = cap.get(cv2.CAP_PROP_FRAME_HEIGHT)\n",
    "width = cap.get(cv2.CAP_PROP_FRAME_WIDTH)\n",
    "\n",
    "# intiating the output writer for video\n",
    "fourcc = cv2.VideoWriter_fourcc(*'MJPG')\n",
    "out = cv2.VideoWriter(\"reverse.avi\", fourcc, fps,(int(width*0.5),int(height*0.5)))\n",
    "\n",
    "print(f\"No. of Frames: {frames}\")\n",
    "print(f\"FPS IS :{fps}\")\n",
    "\n",
    "frame_index = frames - 1\n",
    "\n",
    "if cap.isOpened():\n",
    "    while frame_index!=0:\n",
    "        cap.set(cv2.CAP_PROP_POS_FRAMES, frame_index)\n",
    "        ret, frame = cap.read()\n",
    "        \n",
    "        # Resize the frame\n",
    "        frame = cv2.resize(frame,(int(width*0.5), int(height*0.5)))\n",
    "        \n",
    "        # to show the reversing video\n",
    "        #cv2.imshow(\"reverse video\", frame)\n",
    "        \n",
    "        out.write(frame)\n",
    "        \n",
    "        \n",
    "        frame_index = frame_index - 1\n",
    "        # printing the progress\n",
    "        if frame_index%100 == 0:\n",
    "            print(frame_index)\n",
    "        #if cv2.waitKey(2) == ord('q'):\n",
    "        #    break\n",
    "        \n",
    "        \n",
    "        \n",
    "out.release()\n",
    "cap.release()\n",
    "cv2.destroyAllWindows()"
   ]
  },
  {
   "cell_type": "code",
   "execution_count": null,
   "id": "d0e11ded",
   "metadata": {},
   "outputs": [],
   "source": []
  }
 ],
 "metadata": {
  "kernelspec": {
   "display_name": "Python 3 (ipykernel)",
   "language": "python",
   "name": "python3"
  },
  "language_info": {
   "codemirror_mode": {
    "name": "ipython",
    "version": 3
   },
   "file_extension": ".py",
   "mimetype": "text/x-python",
   "name": "python",
   "nbconvert_exporter": "python",
   "pygments_lexer": "ipython3",
   "version": "3.9.13"
  }
 },
 "nbformat": 4,
 "nbformat_minor": 5
}
