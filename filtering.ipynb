{
 "cells": [
  {
   "cell_type": "code",
   "execution_count": 1,
   "id": "489e7f16",
   "metadata": {},
   "outputs": [],
   "source": [
    "import cv2\n",
    "import numpy as np"
   ]
  },
  {
   "cell_type": "code",
   "execution_count": 6,
   "id": "042dc588",
   "metadata": {},
   "outputs": [
    {
     "data": {
      "text/plain": [
       "-1"
      ]
     },
     "execution_count": 6,
     "metadata": {},
     "output_type": "execute_result"
    }
   ],
   "source": [
    "img = cv2.imread(\"image.png\")\n",
    "\n",
    "kernel_identity = np.array([[0,0,0],[0,1,0],[0,0,0]])\n",
    "kernel_3 = np.ones((3,3), dtype=np.float32)/9.0\n",
    "kernel_11 = np.ones((11,11), dtype= np.float32)/121.0\n",
    "\n",
    "output1 = cv2.filter2D(img, -1, kernel_identity)\n",
    "output2 = cv2.filter2D(img, -1, kernel_3)\n",
    "output3 = cv2.filter2D(img, -1, kernel_11)\n",
    "\n",
    "cv2.imshow(\"Original\", output1)\n",
    "cv2.imshow(\"Blur 3\", output2)\n",
    "cv2.imshow(\"Blur 11\", output3)\n",
    "cv2.waitKey(0)"
   ]
  },
  {
   "cell_type": "code",
   "execution_count": null,
   "id": "c2dac286",
   "metadata": {},
   "outputs": [],
   "source": []
  }
 ],
 "metadata": {
  "kernelspec": {
   "display_name": "Python 3 (ipykernel)",
   "language": "python",
   "name": "python3"
  },
  "language_info": {
   "codemirror_mode": {
    "name": "ipython",
    "version": 3
   },
   "file_extension": ".py",
   "mimetype": "text/x-python",
   "name": "python",
   "nbconvert_exporter": "python",
   "pygments_lexer": "ipython3",
   "version": "3.9.13"
  }
 },
 "nbformat": 4,
 "nbformat_minor": 5
}
