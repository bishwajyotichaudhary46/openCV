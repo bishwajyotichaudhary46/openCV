{
 "cells": [
  {
   "cell_type": "code",
   "execution_count": 1,
   "id": "2819d5aa",
   "metadata": {},
   "outputs": [],
   "source": [
    "import cv2"
   ]
  },
  {
   "cell_type": "code",
   "execution_count": 2,
   "id": "197dd3e6",
   "metadata": {},
   "outputs": [],
   "source": [
    "# flag --> 0 --> gray scale and 1--> default for rgb\n",
    "path = \"hello.jpg\"\n",
    "img = cv2.imread(path, 1)"
   ]
  },
  {
   "cell_type": "code",
   "execution_count": 10,
   "id": "50e0cb28",
   "metadata": {},
   "outputs": [
    {
     "name": "stdout",
     "output_type": "stream",
     "text": [
      "[[[153 138 146]\n",
      "  [154 139 147]\n",
      "  [154 139 147]\n",
      "  ...\n",
      "  [224 206 177]\n",
      "  [226 205 177]\n",
      "  [224 203 175]]\n",
      "\n",
      " [[154 139 147]\n",
      "  [153 138 146]\n",
      "  [153 138 146]\n",
      "  ...\n",
      "  [224 206 177]\n",
      "  [226 205 177]\n",
      "  [224 203 175]]\n",
      "\n",
      " [[154 138 149]\n",
      "  [152 136 147]\n",
      "  [151 135 146]\n",
      "  ...\n",
      "  [225 205 174]\n",
      "  [225 205 174]\n",
      "  [224 204 173]]\n",
      "\n",
      " ...\n",
      "\n",
      " [[119 104 118]\n",
      "  [118 105 119]\n",
      "  [119 104 118]\n",
      "  ...\n",
      "  [147 138 158]\n",
      "  [148 139 159]\n",
      "  [150 141 161]]\n",
      "\n",
      " [[120 103 116]\n",
      "  [116 102 114]\n",
      "  [116  99 112]\n",
      "  ...\n",
      "  [146 137 157]\n",
      "  [147 138 158]\n",
      "  [148 139 159]]\n",
      "\n",
      " [[121 104 117]\n",
      "  [119 102 115]\n",
      "  [116  99 112]\n",
      "  ...\n",
      "  [146 137 157]\n",
      "  [145 136 156]\n",
      "  [145 136 156]]]\n"
     ]
    }
   ],
   "source": [
    "print(img)\n"
   ]
  },
  {
   "cell_type": "code",
   "execution_count": 11,
   "id": "341df6a1",
   "metadata": {},
   "outputs": [],
   "source": [
    "cv2.imshow(\"image\", img)\n",
    "cv2.waitKey(0)\n",
    "cv2.destroyAllWindows()"
   ]
  },
  {
   "cell_type": "code",
   "execution_count": 13,
   "id": "46d1b732",
   "metadata": {},
   "outputs": [
    {
     "name": "stdout",
     "output_type": "stream",
     "text": [
      "(480, 640)\n"
     ]
    }
   ],
   "source": [
    "path = \"hello.jpg\"\n",
    "img = cv2.imread(path, 0)\n",
    "cv2.imshow(\"image\", img)\n",
    "print(img.shape)\n",
    "cv2.waitKey(0)\n",
    "cv2.destroyAllWindows()"
   ]
  },
  {
   "cell_type": "code",
   "execution_count": 15,
   "id": "0722ec4d",
   "metadata": {},
   "outputs": [
    {
     "name": "stdout",
     "output_type": "stream",
     "text": [
      "(480, 640, 3)\n"
     ]
    }
   ],
   "source": [
    "path = \"hello.jpg\"\n",
    "img = cv2.imread(path, 1)\n",
    "cv2.imshow(\"image\", img)\n",
    "print(img.shape)\n",
    "cv2.waitKey(0)\n",
    "cv2.destroyAllWindows()"
   ]
  },
  {
   "cell_type": "code",
   "execution_count": 16,
   "id": "7747ae2a",
   "metadata": {},
   "outputs": [
    {
     "name": "stdout",
     "output_type": "stream",
     "text": [
      "(480, 640, 3)\n"
     ]
    }
   ],
   "source": [
    "# -1 --> read image same as input\n",
    "path = \"hello.jpg\"\n",
    "img = cv2.imread(path, -1)\n",
    "cv2.imshow(\"image\", img)\n",
    "print(img.shape)\n",
    "cv2.waitKey(0)\n",
    "cv2.destroyAllWindows()"
   ]
  },
  {
   "cell_type": "code",
   "execution_count": 2,
   "id": "1544dc25",
   "metadata": {},
   "outputs": [
    {
     "name": "stdout",
     "output_type": "stream",
     "text": [
      "(673, 679, 3)\n"
     ]
    }
   ],
   "source": [
    "\n",
    "path = r\"D:\\Desktop\\profile.png\"\n",
    "img = cv2.imread(path, 1)\n",
    "cv2.imshow(\"image\", img)\n",
    "print(img.shape)\n",
    "cv2.waitKey(0)\n",
    "cv2.destroyAllWindows()"
   ]
  },
  {
   "cell_type": "markdown",
   "id": "6739d3a9",
   "metadata": {},
   "source": [
    "# imshow function"
   ]
  },
  {
   "cell_type": "code",
   "execution_count": 18,
   "id": "ec9f5b73",
   "metadata": {},
   "outputs": [],
   "source": [
    "# syntax: cv2.imshow(window_name, nd array)"
   ]
  },
  {
   "cell_type": "code",
   "execution_count": 3,
   "id": "26b85768",
   "metadata": {},
   "outputs": [],
   "source": [
    "import numpy as np"
   ]
  },
  {
   "cell_type": "code",
   "execution_count": 4,
   "id": "c9a27100",
   "metadata": {},
   "outputs": [],
   "source": [
    "matx = np.zeros((200, 200))"
   ]
  },
  {
   "cell_type": "code",
   "execution_count": 5,
   "id": "08354e5d",
   "metadata": {},
   "outputs": [
    {
     "data": {
      "text/plain": [
       "array([[0., 0., 0., ..., 0., 0., 0.],\n",
       "       [0., 0., 0., ..., 0., 0., 0.],\n",
       "       [0., 0., 0., ..., 0., 0., 0.],\n",
       "       ...,\n",
       "       [0., 0., 0., ..., 0., 0., 0.],\n",
       "       [0., 0., 0., ..., 0., 0., 0.],\n",
       "       [0., 0., 0., ..., 0., 0., 0.]])"
      ]
     },
     "execution_count": 5,
     "metadata": {},
     "output_type": "execute_result"
    }
   ],
   "source": [
    "matx"
   ]
  },
  {
   "cell_type": "code",
   "execution_count": 23,
   "id": "b45422e5",
   "metadata": {},
   "outputs": [],
   "source": [
    "cv2.imshow(\"image\", matx)\n",
    "cv2.waitKey(0)\n",
    "cv2.destroyAllWindows()"
   ]
  },
  {
   "cell_type": "code",
   "execution_count": 24,
   "id": "8b89962c",
   "metadata": {},
   "outputs": [],
   "source": [
    "img = cv2.imread(path)\n",
    "cv2.imshow(\"image\", img)\n",
    "cv2.waitKey(0)\n",
    "cv2.destroyAllWindows()"
   ]
  },
  {
   "cell_type": "code",
   "execution_count": 6,
   "id": "ec4869c4",
   "metadata": {},
   "outputs": [],
   "source": [
    "img = cv2.imread(path)\n",
    "cv2.imshow(\"image\", img)\n",
    "cv2.imshow(\"image_matx\", matx)\n",
    "cv2.waitKey(0)\n",
    "cv2.destroyAllWindows()"
   ]
  },
  {
   "cell_type": "code",
   "execution_count": null,
   "id": "c8a65e3e",
   "metadata": {},
   "outputs": [],
   "source": []
  }
 ],
 "metadata": {
  "kernelspec": {
   "display_name": "Python 3 (ipykernel)",
   "language": "python",
   "name": "python3"
  },
  "language_info": {
   "codemirror_mode": {
    "name": "ipython",
    "version": 3
   },
   "file_extension": ".py",
   "mimetype": "text/x-python",
   "name": "python",
   "nbconvert_exporter": "python",
   "pygments_lexer": "ipython3",
   "version": "3.9.13"
  }
 },
 "nbformat": 4,
 "nbformat_minor": 5
}
