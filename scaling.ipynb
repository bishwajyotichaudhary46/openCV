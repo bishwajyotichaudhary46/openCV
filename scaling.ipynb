{
 "cells": [
  {
   "cell_type": "code",
   "execution_count": 1,
   "id": "873b4f9b",
   "metadata": {},
   "outputs": [],
   "source": [
    "import cv2\n",
    "import numpy as np"
   ]
  },
  {
   "cell_type": "code",
   "execution_count": 3,
   "id": "bff12389",
   "metadata": {},
   "outputs": [],
   "source": [
    "image = cv2.imread(\"hello.jpg\")\n",
    "image_sized = cv2.resize(image, (300,300))\n",
    "\n",
    "# resizing the image using LInear interpolation\n",
    "image_re_linear = cv2.resize(image, None, fx=5.5, fy = 5.5, interpolation = cv2.INTER_LINEAR)\n",
    "\n",
    "# RESIZING THE IMAGE USING CUBIC INTERPOLATION\n",
    "image_re_cubic  = cv2.resize(image, None, fx=5.5, fy=5.5, interpolation= cv2.INTER_CUBIC)\n",
    "\n",
    "cv2.imshow(\"Linear\", image_re_linear)\n",
    "cv2.imshow(\"Cubic\", image_re_cubic)\n",
    "cv2.imshow(\"original\", image)\n",
    "\n",
    "if cv2.waitKey(0) == ord(\"q\"):\n",
    "    cv2.destroyAllWindows()"
   ]
  },
  {
   "cell_type": "code",
   "execution_count": null,
   "id": "708fd47d",
   "metadata": {},
   "outputs": [],
   "source": []
  }
 ],
 "metadata": {
  "kernelspec": {
   "display_name": "Python 3 (ipykernel)",
   "language": "python",
   "name": "python3"
  },
  "language_info": {
   "codemirror_mode": {
    "name": "ipython",
    "version": 3
   },
   "file_extension": ".py",
   "mimetype": "text/x-python",
   "name": "python",
   "nbconvert_exporter": "python",
   "pygments_lexer": "ipython3",
   "version": "3.9.13"
  }
 },
 "nbformat": 4,
 "nbformat_minor": 5
}
