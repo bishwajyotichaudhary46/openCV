{
 "cells": [
  {
   "cell_type": "code",
   "execution_count": 1,
   "id": "0a9f471b",
   "metadata": {},
   "outputs": [],
   "source": [
    "# cv2.putText(image, text, org, font, fontscale, color[, thickness[, linetype[,bottomLeftOrigin]]])"
   ]
  },
  {
   "cell_type": "code",
   "execution_count": 2,
   "id": "9cd7cd61",
   "metadata": {},
   "outputs": [],
   "source": [
    "import cv2\n",
    "import numpy as np"
   ]
  },
  {
   "cell_type": "code",
   "execution_count": 4,
   "id": "37f73a0f",
   "metadata": {},
   "outputs": [],
   "source": [
    "image = cv2.imread(\"hello.jpg\")\n",
    "image =cv2.resize(image, (1280,720))\n",
    "text = 'Bishwa'\n",
    "org = (100, 200)\n",
    "fontFace = cv2.FONT_HERSHEY_COMPLEX_SMALL\n",
    "fontScale= 6\n",
    "color = (0, 0,255)#(B,G,R)\n",
    "thickness= 3\n",
    "lineType = cv2.LINE_AA\n",
    "bottomLeftOrigin = False\n",
    "\n",
    "img = cv2.putText(image, text, org, fontFace, fontScale, color, thickness,lineType, bottomLeftOrigin)#putText(img, text, org, fontFace, fontScale, color[, thickness[, lineType[, bottomLeftOrigin]]])\n",
    "\n",
    "cv2.imshow(\"Text image\", img)\n",
    "\n",
    "cv2.waitKey(0)\n",
    "cv2.destroyAllWindows()"
   ]
  },
  {
   "cell_type": "code",
   "execution_count": 6,
   "id": "f94a4282",
   "metadata": {},
   "outputs": [
    {
     "data": {
      "text/plain": [
       "True"
      ]
     },
     "execution_count": 6,
     "metadata": {},
     "output_type": "execute_result"
    }
   ],
   "source": [
    "cv2.imwrite(\"bishwa_text.jpg\", img)"
   ]
  },
  {
   "cell_type": "code",
   "execution_count": 7,
   "id": "967df026",
   "metadata": {},
   "outputs": [],
   "source": [
    "image = cv2.imread(\"hello.jpg\")\n",
    "image =cv2.resize(image, (1280,720))\n",
    "text = 'Bishwa'\n",
    "org = (100, 200)\n",
    "fontFace = cv2.FONT_HERSHEY_COMPLEX_SMALL\n",
    "fontScale= 6\n",
    "color = (0, 0,255)#(B,G,R)\n",
    "thickness= 3\n",
    "lineType = cv2.LINE_AA\n",
    "# text bottom\n",
    "bottomLeftOrigin = True\n",
    "\n",
    "img = cv2.putText(image, text, org, fontFace, fontScale, color, thickness,lineType, bottomLeftOrigin)#putText(img, text, org, fontFace, fontScale, color[, thickness[, lineType[, bottomLeftOrigin]]])\n",
    "\n",
    "cv2.imshow(\"Text image\", img)\n",
    "\n",
    "cv2.waitKey(0)\n",
    "cv2.destroyAllWindows()"
   ]
  },
  {
   "cell_type": "code",
   "execution_count": 9,
   "id": "845caaf6",
   "metadata": {},
   "outputs": [],
   "source": [
    "image = cv2.imread(\"hello.jpg\")\n",
    "image =cv2.resize(image, (1280,720))\n",
    "text = 'Bishwa'\n",
    "org = (100, 200)\n",
    "fontFace = cv2.FONT_HERSHEY_COMPLEX_SMALL\n",
    "fontScale= 6\n",
    "color = (0, 0,255)#(B,G,R)\n",
    "thickness= 3\n",
    "lineType = cv2.LINE_AA\n",
    "bottomLeftOrigin = True\n",
    "# just flip text\n",
    "img = cv2.putText(image, text, org, fontFace, fontScale, color, thickness,lineType, bottomLeftOrigin)#putText(img, text, org, fontFace, fontScale, color[, thickness[, lineType[, bottomLeftOrigin]]])\n",
    "img = cv2.putText(image, text, org, fontFace, fontScale, color, thickness,lineType, bottomLeftOrigin=False)\n",
    "cv2.imshow(\"Text image\", img)\n",
    "\n",
    "cv2.waitKey(0)\n",
    "cv2.destroyAllWindows()"
   ]
  },
  {
   "cell_type": "code",
   "execution_count": 10,
   "id": "85f6807a",
   "metadata": {},
   "outputs": [],
   "source": [
    "image = cv2.imread(\"hello.jpg\")\n",
    "image =cv2.resize(image, (1280,720))\n",
    "text = 'Bishwa'\n",
    "org = (100, 200)\n",
    "fontFace = cv2.FONT_HERSHEY_PLAIN\n",
    "fontScale= 6\n",
    "color = (0, 0,255)#(B,G,R)\n",
    "thickness= 3\n",
    "lineType = cv2.LINE_8\n",
    "bottomLeftOrigin = True\n",
    "# just flip text\n",
    "img = cv2.putText(image, text, org, fontFace, fontScale, color, thickness,lineType, bottomLeftOrigin)#putText(img, text, org, fontFace, fontScale, color[, thickness[, lineType[, bottomLeftOrigin]]])\n",
    "img = cv2.putText(image, text, org, fontFace, fontScale, color, thickness,lineType, bottomLeftOrigin=False)\n",
    "cv2.imshow(\"Text image\", img)\n",
    "\n",
    "cv2.waitKey(0)\n",
    "cv2.destroyAllWindows()"
   ]
  },
  {
   "cell_type": "code",
   "execution_count": 11,
   "id": "47c4f539",
   "metadata": {},
   "outputs": [],
   "source": [
    "image = cv2.imread(\"hello.jpg\")\n",
    "image =cv2.resize(image, (1280,720))\n",
    "text = 'Bishwa'\n",
    "org = (100, 200)\n",
    "fontFace = cv2.FACE_RECOGNIZER_SF_FR_NORM_L2\n",
    "fontScale= 6\n",
    "color = (0, 0,255)#(B,G,R)\n",
    "thickness= 5\n",
    "lineType = cv2.LINE_8\n",
    "bottomLeftOrigin = True\n",
    "# just flip text\n",
    "img = cv2.putText(image, text, org, fontFace, fontScale, color, thickness,lineType, bottomLeftOrigin)#putText(img, text, org, fontFace, fontScale, color[, thickness[, lineType[, bottomLeftOrigin]]])\n",
    "img = cv2.putText(image, text, org, fontFace, fontScale, color, thickness,lineType, bottomLeftOrigin=False)\n",
    "cv2.imshow(\"Text image\", img)\n",
    "\n",
    "cv2.waitKey(0)\n",
    "cv2.destroyAllWindows()"
   ]
  },
  {
   "cell_type": "code",
   "execution_count": null,
   "id": "0daa7b84",
   "metadata": {},
   "outputs": [],
   "source": []
  }
 ],
 "metadata": {
  "kernelspec": {
   "display_name": "Python 3 (ipykernel)",
   "language": "python",
   "name": "python3"
  },
  "language_info": {
   "codemirror_mode": {
    "name": "ipython",
    "version": 3
   },
   "file_extension": ".py",
   "mimetype": "text/x-python",
   "name": "python",
   "nbconvert_exporter": "python",
   "pygments_lexer": "ipython3",
   "version": "3.9.13"
  }
 },
 "nbformat": 4,
 "nbformat_minor": 5
}
